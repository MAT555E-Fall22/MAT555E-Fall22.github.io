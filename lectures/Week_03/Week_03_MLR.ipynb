{
 "cells": [
  {
   "cell_type": "raw",
   "id": "5b92877c-5def-4815-8ce9-227d45b6fdf3",
   "metadata": {
    "tags": []
   },
   "source": [
    "---\n",
    "title: \"Lab 01\"\n",
    "subtitle: \"Multiple Linear Regression Analysis\"\n",
    "author: \"Gül İnan\"\n",
    "date: \"October 4, 2022\"\n",
    "---"
   ]
  },
  {
   "cell_type": "markdown",
   "id": "3671262a-0d0d-4091-80c0-27872a72b385",
   "metadata": {},
   "source": [
    "## Revisit- Advertising Data Example\n",
    "\n",
    "In a study the association between advertising and sales of a particular product is being investigated. The [advertising](https://www.statlearning.com/resources-second-edition) data set consists of `sales` of that product in 200 different markets, along with advertising budgets for the product in each of those markets for three different media: `TV`, `radio`, and `newspaper`."
   ]
  },
  {
   "cell_type": "code",
   "execution_count": 21,
   "id": "e3f59a15-dfd2-4066-b90d-851d34308d1d",
   "metadata": {},
   "outputs": [],
   "source": [
    "import warnings \n",
    "warnings.filterwarnings('ignore')"
   ]
  },
  {
   "cell_type": "code",
   "execution_count": 22,
   "id": "4a9596f6-50e8-43ae-b23d-58f2ad7687fb",
   "metadata": {},
   "outputs": [],
   "source": [
    "#import required libraries\n",
    "import numpy as np\n",
    "import pandas as pd\n",
    "import statsmodels.api as sm"
   ]
  },
  {
   "cell_type": "code",
   "execution_count": 23,
   "id": "05e9e56e-96a2-41cc-a81e-ff23288e1cd2",
   "metadata": {},
   "outputs": [
    {
     "data": {
      "text/html": [
       "<div>\n",
       "<style scoped>\n",
       "    .dataframe tbody tr th:only-of-type {\n",
       "        vertical-align: middle;\n",
       "    }\n",
       "\n",
       "    .dataframe tbody tr th {\n",
       "        vertical-align: top;\n",
       "    }\n",
       "\n",
       "    .dataframe thead th {\n",
       "        text-align: right;\n",
       "    }\n",
       "</style>\n",
       "<table border=\"1\" class=\"dataframe\">\n",
       "  <thead>\n",
       "    <tr style=\"text-align: right;\">\n",
       "      <th></th>\n",
       "      <th>TV</th>\n",
       "      <th>radio</th>\n",
       "      <th>newspaper</th>\n",
       "      <th>sales</th>\n",
       "    </tr>\n",
       "  </thead>\n",
       "  <tbody>\n",
       "    <tr>\n",
       "      <th>1</th>\n",
       "      <td>230.1</td>\n",
       "      <td>37.8</td>\n",
       "      <td>69.2</td>\n",
       "      <td>22.1</td>\n",
       "    </tr>\n",
       "    <tr>\n",
       "      <th>2</th>\n",
       "      <td>44.5</td>\n",
       "      <td>39.3</td>\n",
       "      <td>45.1</td>\n",
       "      <td>10.4</td>\n",
       "    </tr>\n",
       "    <tr>\n",
       "      <th>3</th>\n",
       "      <td>17.2</td>\n",
       "      <td>45.9</td>\n",
       "      <td>69.3</td>\n",
       "      <td>9.3</td>\n",
       "    </tr>\n",
       "    <tr>\n",
       "      <th>4</th>\n",
       "      <td>151.5</td>\n",
       "      <td>41.3</td>\n",
       "      <td>58.5</td>\n",
       "      <td>18.5</td>\n",
       "    </tr>\n",
       "    <tr>\n",
       "      <th>5</th>\n",
       "      <td>180.8</td>\n",
       "      <td>10.8</td>\n",
       "      <td>58.4</td>\n",
       "      <td>12.9</td>\n",
       "    </tr>\n",
       "  </tbody>\n",
       "</table>\n",
       "</div>"
      ],
      "text/plain": [
       "      TV  radio  newspaper  sales\n",
       "1  230.1   37.8       69.2   22.1\n",
       "2   44.5   39.3       45.1   10.4\n",
       "3   17.2   45.9       69.3    9.3\n",
       "4  151.5   41.3       58.5   18.5\n",
       "5  180.8   10.8       58.4   12.9"
      ]
     },
     "execution_count": 23,
     "metadata": {},
     "output_type": "execute_result"
    }
   ],
   "source": [
    "#import the data set in the .csv file into your your current session\n",
    "advertise_df = pd.read_csv(\"https://www.statlearning.com/s/Advertising.csv\", index_col = 0)\n",
    "#index_col = column(s) to use as the row labels\n",
    "advertise_df.head()"
   ]
  },
  {
   "cell_type": "code",
   "execution_count": 24,
   "id": "f325f141-ac13-42cd-b235-250693320864",
   "metadata": {},
   "outputs": [],
   "source": [
    "# We will fit three individual SLR and one MLR\n",
    "# Arrange the Y and X matrices for each case, respectively.\n",
    "# Define the common response\n",
    "Y = advertise_df.sales\n",
    "# Arrange the first design matrix by including the intercept and TV variable\n",
    "X_tv = sm.add_constant(advertise_df.TV) \n",
    "#X_design_one\n",
    "# Arrange the second design matrix by including the intercept and radio variable\n",
    "X_radio = sm.add_constant(advertise_df.radio) \n",
    "#X_design_two\n",
    "# Arrange the third design matrix by including the intercept and newspaper variable\n",
    "X_news = sm.add_constant(advertise_df.newspaper) \n",
    "#X_design_three\n",
    "# Arrange the matrix for MLR by including the intercept and TV, radio and newspaper variables\n",
    "X = advertise_df[[\"TV\", \"radio\", \"newspaper\"]]\n",
    "X_full = sm.add_constant(X)"
   ]
  },
  {
   "cell_type": "markdown",
   "id": "5995f6ab-c0ff-443c-b1b1-a21da373d307",
   "metadata": {},
   "source": [
    "## Simple Linear Regression Analysis\n",
    "\n",
    "Last week, we have investigated the **relationship between sales and TV advertising**."
   ]
  },
  {
   "cell_type": "code",
   "execution_count": 25,
   "id": "9e08f29b-9276-4f4c-9534-a94cb54ca390",
   "metadata": {},
   "outputs": [
    {
     "name": "stdout",
     "output_type": "stream",
     "text": [
      "                            OLS Regression Results                            \n",
      "==============================================================================\n",
      "Dep. Variable:                  sales   R-squared:                       0.612\n",
      "Model:                            OLS   Adj. R-squared:                  0.610\n",
      "Method:                 Least Squares   F-statistic:                     312.1\n",
      "Date:                Mon, 10 Oct 2022   Prob (F-statistic):           1.47e-42\n",
      "Time:                        20:23:21   Log-Likelihood:                -519.05\n",
      "No. Observations:                 200   AIC:                             1042.\n",
      "Df Residuals:                     198   BIC:                             1049.\n",
      "Df Model:                           1                                         \n",
      "Covariance Type:            nonrobust                                         \n",
      "==============================================================================\n",
      "                 coef    std err          t      P>|t|      [0.025      0.975]\n",
      "------------------------------------------------------------------------------\n",
      "const          7.0326      0.458     15.360      0.000       6.130       7.935\n",
      "TV             0.0475      0.003     17.668      0.000       0.042       0.053\n",
      "==============================================================================\n",
      "Omnibus:                        0.531   Durbin-Watson:                   1.935\n",
      "Prob(Omnibus):                  0.767   Jarque-Bera (JB):                0.669\n",
      "Skew:                          -0.089   Prob(JB):                        0.716\n",
      "Kurtosis:                       2.779   Cond. No.                         338.\n",
      "==============================================================================\n",
      "\n",
      "Notes:\n",
      "[1] Standard Errors assume that the covariance matrix of the errors is correctly specified.\n"
     ]
    }
   ],
   "source": [
    "#https://www.statsmodels.org/dev/generated/statsmodels.regression.linear_model.OLS.html\n",
    "#class statsmodels.regression.linear_model.OLS\n",
    "#https://www.statsmodels.org/dev/generated/statsmodels.regression.linear_model.OLS.fit.html\n",
    "#OLS.fit() method\n",
    "#Describe model\n",
    "model_tv = sm.OLS(Y, X_tv) #OLS class takes the data\n",
    "#Fit model and return results object\n",
    "results_tv = model_tv.fit() \n",
    "#alternatively:sm.OLS(Y, X_tv).fit()\n",
    "#https://www.statsmodels.org/dev/generated/statsmodels.regression.linear_model.RegressionResults.html#statsmodels.regression.linear_model.RegressionResults\n",
    "#fit method returns another class named RegressionResults\n",
    "#hence results_tv object has its own class that is regression results\n",
    "#of course, regression results class has its own fit method\n",
    "#Based on the results, get predictions\n",
    "predictions_tv = results_tv.predict(X_tv)\n",
    "#of course, regression results class has its summary method\n",
    "#Get the results summary\n",
    "print_model_tv = results_tv.summary()\n",
    "print(print_model_tv)"
   ]
  },
  {
   "cell_type": "code",
   "execution_count": 26,
   "id": "dc948b56-d7ea-4025-8a66-39f5a9a232dd",
   "metadata": {},
   "outputs": [],
   "source": [
    "#as example, evaluate the loglik at OLS estimates. Yes, we can get the value in the tablo above.\n",
    "#model_tv.loglike(params=[7.0326,0.0475])"
   ]
  },
  {
   "cell_type": "code",
   "execution_count": 27,
   "id": "c8ca65f3-22d7-41e5-ad69-3ecd8f024278",
   "metadata": {},
   "outputs": [],
   "source": [
    "#another example, rsquared is a property for results class. get the rsquare of the model\n",
    "#results_tv.rsquared\n",
    "#results_tv.mse_resid\n",
    "#results_tv.aic"
   ]
  },
  {
   "cell_type": "markdown",
   "id": "61901d64-0bb5-426b-abc4-e98fedff5676",
   "metadata": {},
   "source": [
    "We can also investigate the **relationship between sales and radio**.\n",
    "The results in the following table shows that a $1,000 increase in spending on radio advertising is associated with an increase in sales of around 203 units."
   ]
  },
  {
   "cell_type": "code",
   "execution_count": 28,
   "id": "43d50c6f-3f8d-4a7f-9397-7bb85e6a90d5",
   "metadata": {},
   "outputs": [
    {
     "name": "stdout",
     "output_type": "stream",
     "text": [
      "                            OLS Regression Results                            \n",
      "==============================================================================\n",
      "Dep. Variable:                  sales   R-squared:                       0.332\n",
      "Model:                            OLS   Adj. R-squared:                  0.329\n",
      "Method:                 Least Squares   F-statistic:                     98.42\n",
      "Date:                Mon, 10 Oct 2022   Prob (F-statistic):           4.35e-19\n",
      "Time:                        20:23:21   Log-Likelihood:                -573.34\n",
      "No. Observations:                 200   AIC:                             1151.\n",
      "Df Residuals:                     198   BIC:                             1157.\n",
      "Df Model:                           1                                         \n",
      "Covariance Type:            nonrobust                                         \n",
      "==============================================================================\n",
      "                 coef    std err          t      P>|t|      [0.025      0.975]\n",
      "------------------------------------------------------------------------------\n",
      "const          9.3116      0.563     16.542      0.000       8.202      10.422\n",
      "radio          0.2025      0.020      9.921      0.000       0.162       0.243\n",
      "==============================================================================\n",
      "Omnibus:                       19.358   Durbin-Watson:                   1.946\n",
      "Prob(Omnibus):                  0.000   Jarque-Bera (JB):               21.910\n",
      "Skew:                          -0.764   Prob(JB):                     1.75e-05\n",
      "Kurtosis:                       3.544   Cond. No.                         51.4\n",
      "==============================================================================\n",
      "\n",
      "Notes:\n",
      "[1] Standard Errors assume that the covariance matrix of the errors is correctly specified.\n"
     ]
    }
   ],
   "source": [
    "#Describe model\n",
    "model_radio = sm.OLS(Y, X_radio) \n",
    "#Fit model and return results object\n",
    "results_radio = model_radio.fit() \n",
    "#Based on the results, get predictions\n",
    "predictions_radio = results_radio.predict(X_radio) \n",
    "#Get the results summary\n",
    "print_model_radio = results_radio.summary()\n",
    "print(print_model_radio)"
   ]
  },
  {
   "cell_type": "markdown",
   "id": "6203e210-79b8-4cac-b95f-bb23df42c4da",
   "metadata": {},
   "source": [
    "We can also further investigate the **relationship between sales and newspaper**.\n",
    "The results in the following table shows that a $1,000 increase in spending on newspaper advertising is associated with an increase in sales of around 55 units."
   ]
  },
  {
   "cell_type": "code",
   "execution_count": 29,
   "id": "25b0da30-5874-4227-8864-23c3d6789cb0",
   "metadata": {},
   "outputs": [
    {
     "name": "stdout",
     "output_type": "stream",
     "text": [
      "                            OLS Regression Results                            \n",
      "==============================================================================\n",
      "Dep. Variable:                  sales   R-squared:                       0.052\n",
      "Model:                            OLS   Adj. R-squared:                  0.047\n",
      "Method:                 Least Squares   F-statistic:                     10.89\n",
      "Date:                Mon, 10 Oct 2022   Prob (F-statistic):            0.00115\n",
      "Time:                        20:23:21   Log-Likelihood:                -608.34\n",
      "No. Observations:                 200   AIC:                             1221.\n",
      "Df Residuals:                     198   BIC:                             1227.\n",
      "Df Model:                           1                                         \n",
      "Covariance Type:            nonrobust                                         \n",
      "==============================================================================\n",
      "                 coef    std err          t      P>|t|      [0.025      0.975]\n",
      "------------------------------------------------------------------------------\n",
      "const         12.3514      0.621     19.876      0.000      11.126      13.577\n",
      "newspaper      0.0547      0.017      3.300      0.001       0.022       0.087\n",
      "==============================================================================\n",
      "Omnibus:                        6.231   Durbin-Watson:                   1.983\n",
      "Prob(Omnibus):                  0.044   Jarque-Bera (JB):                5.483\n",
      "Skew:                           0.330   Prob(JB):                       0.0645\n",
      "Kurtosis:                       2.527   Cond. No.                         64.7\n",
      "==============================================================================\n",
      "\n",
      "Notes:\n",
      "[1] Standard Errors assume that the covariance matrix of the errors is correctly specified.\n"
     ]
    }
   ],
   "source": [
    "#Describe model\n",
    "model_news = sm.OLS(Y, X_news) \n",
    "#Fit model and return results object\n",
    "results_news = model_news.fit() \n",
    "#Based on the results, get predictions\n",
    "predictions_news = results_news.predict(X_news) \n",
    "#Get the results summary\n",
    "print_model_news = results_news.summary()\n",
    "print(print_model_news)"
   ]
  },
  {
   "cell_type": "markdown",
   "id": "d26b8ec6-25bd-4b90-981c-6dd44e2fab23",
   "metadata": {},
   "source": [
    "## Multiple Linear Regression Analysis\n",
    "\n",
    "- One problem associated with fitting seperate simple linear regression model for each predictor is that it is not clear that how to **make a single prediction of sales given the three advertising media budgets**. \n",
    "- On the other hand, each of the three regression equations **ignores the other two media** forming estimates for the regression coefficients.\n",
    "- A better approach would be to fit a multiple linear regression to sales with three predictors such as:\n",
    "\n",
    "$$sales_i = \\beta_0 +  \\beta_1 *TV_i + \\beta_2 * radio_i + \\beta_3 *newspaper_i + \\epsilon_i \\quad$$ for $i=1,2,\\ldots,200$, where $\\epsilon_i \\sim N(0,\\sigma^2)$."
   ]
  },
  {
   "cell_type": "code",
   "execution_count": 30,
   "id": "b75e7187-50aa-402f-807a-d882149cd5e4",
   "metadata": {},
   "outputs": [
    {
     "name": "stdout",
     "output_type": "stream",
     "text": [
      "                            OLS Regression Results                            \n",
      "==============================================================================\n",
      "Dep. Variable:                  sales   R-squared:                       0.897\n",
      "Model:                            OLS   Adj. R-squared:                  0.896\n",
      "Method:                 Least Squares   F-statistic:                     570.3\n",
      "Date:                Mon, 10 Oct 2022   Prob (F-statistic):           1.58e-96\n",
      "Time:                        20:23:21   Log-Likelihood:                -386.18\n",
      "No. Observations:                 200   AIC:                             780.4\n",
      "Df Residuals:                     196   BIC:                             793.6\n",
      "Df Model:                           3                                         \n",
      "Covariance Type:            nonrobust                                         \n",
      "==============================================================================\n",
      "                 coef    std err          t      P>|t|      [0.025      0.975]\n",
      "------------------------------------------------------------------------------\n",
      "const          2.9389      0.312      9.422      0.000       2.324       3.554\n",
      "TV             0.0458      0.001     32.809      0.000       0.043       0.049\n",
      "radio          0.1885      0.009     21.893      0.000       0.172       0.206\n",
      "newspaper     -0.0010      0.006     -0.177      0.860      -0.013       0.011\n",
      "==============================================================================\n",
      "Omnibus:                       60.414   Durbin-Watson:                   2.084\n",
      "Prob(Omnibus):                  0.000   Jarque-Bera (JB):              151.241\n",
      "Skew:                          -1.327   Prob(JB):                     1.44e-33\n",
      "Kurtosis:                       6.332   Cond. No.                         454.\n",
      "==============================================================================\n",
      "\n",
      "Notes:\n",
      "[1] Standard Errors assume that the covariance matrix of the errors is correctly specified.\n"
     ]
    }
   ],
   "source": [
    "#Describe model\n",
    "model_full = sm.OLS(Y, X_full) \n",
    "#Fit model and return results object\n",
    "results_full = model_full.fit() \n",
    "#Based on the results, get predictions\n",
    "predictions_full = results_full.predict(X_full) \n",
    "#Get the results summary\n",
    "print_model_full = results_full.summary()\n",
    "print(print_model_full)"
   ]
  },
  {
   "cell_type": "markdown",
   "id": "0915af68-1c63-4a35-b9c3-3009bedcce11",
   "metadata": {},
   "source": [
    "### Interpretation of the output\n",
    "\n",
    "- The results above shows us the multiple regression coeffcient estimates when TV, radio, and newspaper advertising budgets are used to predict product sales.\n",
    "- As an example, the interpreation of $\\hat{\\beta}_2=0.1885$ is follows: for a given amount of TV and newspaper advertising, spending an additional $ \\$1,000 $ on radio advertising is associated with approximately 189 units of additional sales.\n",
    "- The coefficient estimates $\\hat{\\beta}_1$ and $\\hat{\\beta}_3$ can be interpreted in a similar way.\n",
    "- The **eye-catching point** is that the coefficient of newspaper in SLR is 0.0547 (P-value close to 0), whereas the coefficient of newspaper in MLR is -0.0010 (P-value = 0.860). \n",
    "- This is a **very good example** that the coefficient of a variable in a **SLR when other predictors are omitted from the model** can be quite different in a **MLR when other predictors included into the model** !!!\n",
    "- One more time: In SLR, the slope term for newspaper represents the average increase in product sales associated with a $ \\$1,000 $ increase in newspaper advertising, ignoring TV and radio. In MLR, the slope term for newspaper represents the average increase in product sales associated with increasing newspaper spending by $ \\$1,000$ while holding TV and radio fixed."
   ]
  },
  {
   "cell_type": "markdown",
   "id": "8fbc0d14-6b4c-4e09-b033-ece299cb118f",
   "metadata": {},
   "source": [
    "- The correlation between newspaper and radio is around 0.35. \n",
    "The correlation matrix result may imply that: in markets where we spend more on radio our sales will tend to be higher, we also tend to spend more on newspaper advertising in those same markets. Hence, in SLR which only examines sales versus newspaper, we will observe that higher values of newspaper tend to associated with higher values of sales, even though newspaper advertising is not directly associated with sales as MLR shows. So newspaper advertising is a surrogate for radio advertising: newspaper gets \"credit\" for the association between radio on sales."
   ]
  },
  {
   "cell_type": "code",
   "execution_count": 31,
   "id": "be9d36e6-5c58-41e7-8011-28bf6964fcb9",
   "metadata": {},
   "outputs": [
    {
     "data": {
      "text/html": [
       "<div>\n",
       "<style scoped>\n",
       "    .dataframe tbody tr th:only-of-type {\n",
       "        vertical-align: middle;\n",
       "    }\n",
       "\n",
       "    .dataframe tbody tr th {\n",
       "        vertical-align: top;\n",
       "    }\n",
       "\n",
       "    .dataframe thead th {\n",
       "        text-align: right;\n",
       "    }\n",
       "</style>\n",
       "<table border=\"1\" class=\"dataframe\">\n",
       "  <thead>\n",
       "    <tr style=\"text-align: right;\">\n",
       "      <th></th>\n",
       "      <th>TV</th>\n",
       "      <th>radio</th>\n",
       "      <th>newspaper</th>\n",
       "      <th>sales</th>\n",
       "    </tr>\n",
       "  </thead>\n",
       "  <tbody>\n",
       "    <tr>\n",
       "      <th>TV</th>\n",
       "      <td>1.000000</td>\n",
       "      <td>0.054809</td>\n",
       "      <td>0.056648</td>\n",
       "      <td>0.782224</td>\n",
       "    </tr>\n",
       "    <tr>\n",
       "      <th>radio</th>\n",
       "      <td>0.054809</td>\n",
       "      <td>1.000000</td>\n",
       "      <td>0.354104</td>\n",
       "      <td>0.576223</td>\n",
       "    </tr>\n",
       "    <tr>\n",
       "      <th>newspaper</th>\n",
       "      <td>0.056648</td>\n",
       "      <td>0.354104</td>\n",
       "      <td>1.000000</td>\n",
       "      <td>0.228299</td>\n",
       "    </tr>\n",
       "    <tr>\n",
       "      <th>sales</th>\n",
       "      <td>0.782224</td>\n",
       "      <td>0.576223</td>\n",
       "      <td>0.228299</td>\n",
       "      <td>1.000000</td>\n",
       "    </tr>\n",
       "  </tbody>\n",
       "</table>\n",
       "</div>"
      ],
      "text/plain": [
       "                 TV     radio  newspaper     sales\n",
       "TV         1.000000  0.054809   0.056648  0.782224\n",
       "radio      0.054809  1.000000   0.354104  0.576223\n",
       "newspaper  0.056648  0.354104   1.000000  0.228299\n",
       "sales      0.782224  0.576223   0.228299  1.000000"
      ]
     },
     "execution_count": 31,
     "metadata": {},
     "output_type": "execute_result"
    }
   ],
   "source": [
    "advertise_df.corr()"
   ]
  },
  {
   "cell_type": "markdown",
   "id": "46590208-da74-4044-91db-9f16a08eaacc",
   "metadata": {},
   "source": [
    "- A side note: in the results of MLR, we can see that **loglikelihood** is -386.18. Once we know the loglikelihood we can also calculate AIC and BIC values (they are already available in the output above).\n",
    "- If we compare the AIC, BIC values of all four models above, we can see that **MLR is better** than the others (the lower AIC, BIC, the better the model is)."
   ]
  },
  {
   "cell_type": "code",
   "execution_count": 32,
   "id": "2e173419-d5bc-4484-bb80-87a1ecb899e8",
   "metadata": {},
   "outputs": [],
   "source": [
    "loglik = -386.18\n",
    "AIC = -2*loglik + 2*4 # four is the number of regression parameters\n",
    "BIC = -2*loglik + 4* np.log(200)"
   ]
  },
  {
   "cell_type": "code",
   "execution_count": 38,
   "id": "b6eea5f8-8543-4dad-941e-891d0b118919",
   "metadata": {},
   "outputs": [],
   "source": [
    "#model_full.loglike(params=[2.9389,0.0458,0.1885,-0.0010])\n",
    "#results_full.aic\n",
    "#results_full.bic"
   ]
  },
  {
   "cell_type": "markdown",
   "id": "6df8d9de-a4ae-48b6-9831-76fcd614556c",
   "metadata": {},
   "source": [
    "On the other hand, let's test whether we should keep $X_2$ (radio) and $X_3$ (newspaper) in the full model or not. So, our reduced model is the one with $X_1$ (TV) only.\n",
    "\n",
    "\\begin{eqnarray}\n",
    "H_{0}:\\beta_2=\\beta_3=0  \\\\ \\nonumber\n",
    "\\end{eqnarray}\n",
    "\n",
    "Let's carry out an F test over full model."
   ]
  },
  {
   "cell_type": "code",
   "execution_count": 34,
   "id": "43f37383-fe1e-4457-930e-1d6a245f80b0",
   "metadata": {},
   "outputs": [
    {
     "data": {
      "text/plain": [
       "(272.0406768057634, 2.8294869157010127e-57)"
      ]
     },
     "execution_count": 34,
     "metadata": {},
     "output_type": "execute_result"
    }
   ],
   "source": [
    "results_full.compare_f_test(results_tv)[0:2] #f_value, p value"
   ]
  },
  {
   "cell_type": "markdown",
   "id": "84f11c8a-fc84-4dac-95e5-5014e6f10307",
   "metadata": {},
   "source": [
    "P-value is close to zero, indicating that no at least one of the variables $X_2$ (radio) and $X_3$ (newspaper) should be in the model."
   ]
  },
  {
   "cell_type": "markdown",
   "id": "c869fe5d-ce82-49b3-84f1-54e64f49a61f",
   "metadata": {},
   "source": [
    "Check it with out formula since there is no example on the web:\n",
    "\n",
    "\\begin{equation}\n",
    "F=\\frac{(RSS_0-RSS)/q}{RSS/(n-p-1)}  \\sim F_{q,(n-p-1)}.\n",
    "\\nonumber\n",
    "\\end{equation}"
   ]
  },
  {
   "cell_type": "code",
   "execution_count": 35,
   "id": "9d9e4b86-90bc-40ba-8062-61eaa114f4bb",
   "metadata": {},
   "outputs": [
    {
     "data": {
      "text/plain": [
       "272.04067680576344"
      ]
     },
     "execution_count": 35,
     "metadata": {},
     "output_type": "execute_result"
    }
   ],
   "source": [
    "RSSo=sum(results_tv.resid**2)\n",
    "RSS=sum(results_full.resid**2)\n",
    "num = (RSSo-RSS)/2 #q=2\n",
    "denom =RSS/(200-4) #p=3, n=200\n",
    "F = num /denom\n",
    "F"
   ]
  },
  {
   "cell_type": "markdown",
   "id": "9c826458-1051-4ea3-b7f3-801dcb1247d6",
   "metadata": {},
   "source": [
    "## Reference\n",
    "\n",
    "James, G., Witten, D., Hastie, T., and Tibshirani, R. (2021). [An Introduction to Statistical Learning: With Applications in R](https://www.statlearning.com/). New York: Springer."
   ]
  },
  {
   "cell_type": "code",
   "execution_count": 36,
   "id": "9e7aadb4-5c82-426a-b750-c6db05bffcfe",
   "metadata": {},
   "outputs": [
    {
     "data": {
      "text/html": [
       "<details>\n",
       "<summary>Click to view session information</summary>\n",
       "<pre>\n",
       "-----\n",
       "numpy               1.21.2\n",
       "pandas              1.3.3\n",
       "session_info        1.0.0\n",
       "statsmodels         0.13.2\n",
       "-----\n",
       "</pre>\n",
       "<details>\n",
       "<summary>Click to view modules imported as dependencies</summary>\n",
       "<pre>\n",
       "anyio                       NA\n",
       "appnope                     0.1.2\n",
       "attr                        21.2.0\n",
       "babel                       2.9.1\n",
       "backcall                    0.2.0\n",
       "beta_ufunc                  NA\n",
       "binom_ufunc                 NA\n",
       "brotli                      1.0.9\n",
       "certifi                     2021.05.30\n",
       "chardet                     4.0.0\n",
       "charset_normalizer          2.0.0\n",
       "colorama                    0.4.4\n",
       "cython_runtime              NA\n",
       "dateutil                    2.8.2\n",
       "debugpy                     1.4.1\n",
       "decorator                   5.1.0\n",
       "entrypoints                 0.3\n",
       "google                      NA\n",
       "idna                        3.1\n",
       "ipykernel                   6.4.1\n",
       "ipython_genutils            0.2.0\n",
       "jedi                        0.18.0\n",
       "jinja2                      3.0.1\n",
       "joblib                      1.1.0\n",
       "json5                       NA\n",
       "jsonschema                  3.2.0\n",
       "jupyter_server              1.11.0\n",
       "jupyterlab_server           2.8.1\n",
       "lz4                         4.0.0\n",
       "markupsafe                  2.0.1\n",
       "mpl_toolkits                NA\n",
       "nbclassic                   NA\n",
       "nbformat                    5.1.3\n",
       "nbinom_ufunc                NA\n",
       "packaging                   21.3\n",
       "parso                       0.8.2\n",
       "patsy                       0.5.2\n",
       "pexpect                     4.8.0\n",
       "pickleshare                 0.7.5\n",
       "pkg_resources               NA\n",
       "prometheus_client           NA\n",
       "prompt_toolkit              3.0.20\n",
       "ptyprocess                  0.7.0\n",
       "pvectorc                    NA\n",
       "pydev_ipython               NA\n",
       "pydevconsole                NA\n",
       "pydevd                      2.4.1\n",
       "pydevd_concurrency_analyser NA\n",
       "pydevd_file_utils           NA\n",
       "pydevd_plugins              NA\n",
       "pydevd_tracing              NA\n",
       "pygments                    2.10.0\n",
       "pyrsistent                  NA\n",
       "pytz                        2021.1\n",
       "requests                    2.26.0\n",
       "scipy                       1.7.1\n",
       "send2trash                  NA\n",
       "six                         1.16.0\n",
       "sniffio                     1.2.0\n",
       "socks                       1.7.1\n",
       "storemagic                  NA\n",
       "terminado                   0.12.1\n",
       "tornado                     6.1\n",
       "traitlets                   5.1.0\n",
       "typing_extensions           NA\n",
       "uritemplate                 4.1.1\n",
       "urllib3                     1.26.7\n",
       "wcwidth                     0.2.5\n",
       "websocket                   0.57.0\n",
       "zmq                         22.3.0\n",
       "</pre>\n",
       "</details> <!-- seems like this ends pre, so might as well be explicit -->\n",
       "<pre>\n",
       "-----\n",
       "IPython             7.27.0\n",
       "jupyter_client      7.0.3\n",
       "jupyter_core        4.8.1\n",
       "jupyterlab          3.1.12\n",
       "notebook            6.4.4\n",
       "-----\n",
       "Python 3.8.12 | packaged by conda-forge | (default, Sep 16 2021, 01:59:00) [Clang 11.1.0 ]\n",
       "macOS-10.15.7-x86_64-i386-64bit\n",
       "-----\n",
       "Session information updated at 2022-10-10 20:23\n",
       "</pre>\n",
       "</details>"
      ],
      "text/plain": [
       "<IPython.core.display.HTML object>"
      ]
     },
     "execution_count": 36,
     "metadata": {},
     "output_type": "execute_result"
    }
   ],
   "source": [
    "import session_info\n",
    "session_info.show()"
   ]
  }
 ],
 "metadata": {
  "kernelspec": {
   "display_name": "Python 3 (ipykernel)",
   "language": "python",
   "name": "python3"
  },
  "language_info": {
   "codemirror_mode": {
    "name": "ipython",
    "version": 3
   },
   "file_extension": ".py",
   "mimetype": "text/x-python",
   "name": "python",
   "nbconvert_exporter": "python",
   "pygments_lexer": "ipython3",
   "version": "3.8.12"
  }
 },
 "nbformat": 4,
 "nbformat_minor": 5
}
