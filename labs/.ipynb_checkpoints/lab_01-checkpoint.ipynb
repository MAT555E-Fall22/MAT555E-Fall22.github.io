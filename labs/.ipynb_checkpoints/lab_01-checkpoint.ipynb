{
 "cells": [
  {
   "cell_type": "raw",
   "id": "eb25daab",
   "metadata": {},
   "source": [
    "---\n",
    "title: \"Lab 01\"\n",
    "author: \"Gül İnan\"\n",
    "date: \"August 02, 2022\"\n",
    "---"
   ]
  },
  {
   "cell_type": "markdown",
   "id": "dee84a8e",
   "metadata": {},
   "source": [
    "## Introduction to Simple Linear Regression"
   ]
  },
  {
   "cell_type": "code",
   "execution_count": 1,
   "id": "24b325b0",
   "metadata": {},
   "outputs": [
    {
     "data": {
      "text/plain": [
       "9"
      ]
     },
     "execution_count": 1,
     "metadata": {},
     "output_type": "execute_result"
    }
   ],
   "source": [
    "2 + 7"
   ]
  },
  {
   "cell_type": "code",
   "execution_count": 2,
   "id": "58045364-88e7-493e-b8a8-604f4d53b0a2",
   "metadata": {},
   "outputs": [],
   "source": [
    "import numpy as np\n",
    "import pandas as pd"
   ]
  },
  {
   "cell_type": "code",
   "execution_count": 3,
   "id": "ee36a236-b9f6-4596-a5c1-acf56c359b1f",
   "metadata": {},
   "outputs": [],
   "source": [
    "s = pd.Series([1, 3, 5, np.nan, 6, 8])"
   ]
  },
  {
   "cell_type": "code",
   "execution_count": 4,
   "id": "a0f68271-bf26-4310-be89-253da089eb99",
   "metadata": {},
   "outputs": [
    {
     "data": {
      "text/plain": [
       "0    1.0\n",
       "1    3.0\n",
       "2    5.0\n",
       "3    NaN\n",
       "4    6.0\n",
       "5    8.0\n",
       "dtype: float64"
      ]
     },
     "execution_count": 4,
     "metadata": {},
     "output_type": "execute_result"
    }
   ],
   "source": [
    "s"
   ]
  },
  {
   "cell_type": "code",
   "execution_count": null,
   "id": "4334c666-823d-486b-9c38-308bae6f2138",
   "metadata": {},
   "outputs": [],
   "source": []
  }
 ],
 "metadata": {
  "kernelspec": {
   "display_name": "Python 3 (ipykernel)",
   "language": "python",
   "name": "python3"
  },
  "language_info": {
   "codemirror_mode": {
    "name": "ipython",
    "version": 3
   },
   "file_extension": ".py",
   "mimetype": "text/x-python",
   "name": "python",
   "nbconvert_exporter": "python",
   "pygments_lexer": "ipython3",
   "version": "3.8.12"
  }
 },
 "nbformat": 4,
 "nbformat_minor": 5
}
