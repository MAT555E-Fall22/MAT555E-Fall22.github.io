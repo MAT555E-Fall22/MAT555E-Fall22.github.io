{
 "cells": [
  {
   "cell_type": "raw",
   "id": "cfc9e87c-be8c-454d-9567-7be54e29ebe6",
   "metadata": {},
   "source": [
    "---\n",
    "title: \"Lab 01\"\n",
    "subtitle: \"Warm-up: Exploratory Data Analysis\"\n",
    "author: \"Gül İnan\"\n",
    "date: \"September 20, 2022\"\n",
    "---"
   ]
  },
  {
   "cell_type": "markdown",
   "id": "7f110538-8ae9-4563-9ba2-db8df8fb1f35",
   "metadata": {
    "tags": []
   },
   "source": [
    "## What is data?\n",
    "\n",
    "-   The term **data** refers to the observations gathered on the **characteristics of interest**.\n",
    "-   For example,\n",
    "    -   A medical doctor may collect family history of a patient for a medical study,\n",
    "    -   Market research companies may collect demographic characteristics of people who voted for political candidates in a particular election, or\n",
    "    -   A quality control engineer may collect operating data from an industrial manufacturing process.\n",
    "-   Each data point roots from a physical, demographical or behavioral phenomenon."
   ]
  },
  {
   "cell_type": "markdown",
   "id": "52269e7e-a52e-464f-b535-9333745f7570",
   "metadata": {},
   "source": [
    "## Data representation\n",
    "\n",
    "-   The **data** is generally organized and represented in a **rectangular array** of observed values, where\n",
    "    -   **Each row** refers to the observations for a **particular object** (e.g., patients in a medical study), and\n",
    "    -   **Each column** refers to the observations for a **particular characteristic** (_attribute_) (e.g., age of the patients, gender of the patients etc.) recorded for each row.\n",
    "\n",
    "-   Many **statistical** software/library requires a similar data structure (e.g., tabular data, tidy data) which is stored in a plain text file or spreadsheet file for data analysis."
   ]
  },
  {
   "cell_type": "markdown",
   "id": "0f5ae817-6906-42bf-b52e-7c11d229e0b3",
   "metadata": {},
   "source": [
    "## Example\n",
    "\n",
    "-   Consider the [College.csv](https://www.statlearning.com/resources-second-edition) file\n",
    "which contains a number of variables for 777 different universites and colleges in the U.S.:\n",
    "  \n",
    "    - `Private` : Public/private indicator   \n",
    "    - `Apps` : Number of applications received  \n",
    "    - `Accept` : Number of applicants accepted\n",
    "    - `Enroll` : Number of new students enrolled\n",
    "    - `Top10perc` : New students from top 10% of high school class\n",
    "    - `Top25perc` : New students from top 25% of high school class\n",
    "    - `F.Undergrad` : Number of full-time undergraduates\n",
    "    - `P.Undergrad` : Number of part-time undergraduates\n",
    "    - `Outstate` : Out-of-state tuition\n",
    "    - `Room.Board` : Room and board costs\n",
    "    - `Books` : Estimated book costs\n",
    "    - `Personal` : Estimated personal spending\n",
    "    - `PhD` : Percent of faculty with Ph.D.’s\n",
    "    - `Terminal` : Percent of faculty with terminal degree\n",
    "    - `S.F.Ratio` : Student/faculty ratio\n",
    "    - `perc.alumni` : Percent of alumni who donate\n",
    "    - `Expend` : Instructional expenditure per student\n",
    "    - `Grad.Rate` : Graduation rate"
   ]
  },
  {
   "cell_type": "code",
   "execution_count": 3,
   "id": "f648c244-d876-425b-b909-a6b071c5f8ea",
   "metadata": {},
   "outputs": [],
   "source": [
    "import warnings \n",
    "#warnings.filterwarnings('ignore')"
   ]
  },
  {
   "cell_type": "code",
   "execution_count": 4,
   "id": "0e360788-35f0-4f54-b289-3b0c416d7be4",
   "metadata": {},
   "outputs": [],
   "source": [
    "#download the .csv file into your local and import it into your current\n",
    "#Jupyter Notebook session\n",
    "#i use a relative path, but make sure that you set your own path correctly\n",
    "#the data set involves both column and row names\n",
    "import pandas as pd\n",
    "college_df = pd.read_csv(\"datasets/College.csv\", index_col = 0)"
   ]
  },
  {
   "cell_type": "code",
   "execution_count": 5,
   "id": "999ed10f-1d89-4cbe-a36e-34fcf8d63345",
   "metadata": {},
   "outputs": [
    {
     "data": {
      "text/html": [
       "<div>\n",
       "<style scoped>\n",
       "    .dataframe tbody tr th:only-of-type {\n",
       "        vertical-align: middle;\n",
       "    }\n",
       "\n",
       "    .dataframe tbody tr th {\n",
       "        vertical-align: top;\n",
       "    }\n",
       "\n",
       "    .dataframe thead th {\n",
       "        text-align: right;\n",
       "    }\n",
       "</style>\n",
       "<table border=\"1\" class=\"dataframe\">\n",
       "  <thead>\n",
       "    <tr style=\"text-align: right;\">\n",
       "      <th></th>\n",
       "      <th>Private</th>\n",
       "      <th>Apps</th>\n",
       "      <th>Accept</th>\n",
       "      <th>Enroll</th>\n",
       "      <th>Top10perc</th>\n",
       "      <th>Top25perc</th>\n",
       "      <th>F.Undergrad</th>\n",
       "      <th>P.Undergrad</th>\n",
       "      <th>Outstate</th>\n",
       "      <th>Room.Board</th>\n",
       "      <th>Books</th>\n",
       "      <th>Personal</th>\n",
       "      <th>PhD</th>\n",
       "      <th>Terminal</th>\n",
       "      <th>S.F.Ratio</th>\n",
       "      <th>perc.alumni</th>\n",
       "      <th>Expend</th>\n",
       "      <th>Grad.Rate</th>\n",
       "    </tr>\n",
       "  </thead>\n",
       "  <tbody>\n",
       "    <tr>\n",
       "      <th>Abilene Christian University</th>\n",
       "      <td>Yes</td>\n",
       "      <td>1660</td>\n",
       "      <td>1232</td>\n",
       "      <td>721</td>\n",
       "      <td>23</td>\n",
       "      <td>52</td>\n",
       "      <td>2885</td>\n",
       "      <td>537</td>\n",
       "      <td>7440</td>\n",
       "      <td>3300</td>\n",
       "      <td>450</td>\n",
       "      <td>2200</td>\n",
       "      <td>70</td>\n",
       "      <td>78</td>\n",
       "      <td>18.1</td>\n",
       "      <td>12</td>\n",
       "      <td>7041</td>\n",
       "      <td>60</td>\n",
       "    </tr>\n",
       "    <tr>\n",
       "      <th>Adelphi University</th>\n",
       "      <td>Yes</td>\n",
       "      <td>2186</td>\n",
       "      <td>1924</td>\n",
       "      <td>512</td>\n",
       "      <td>16</td>\n",
       "      <td>29</td>\n",
       "      <td>2683</td>\n",
       "      <td>1227</td>\n",
       "      <td>12280</td>\n",
       "      <td>6450</td>\n",
       "      <td>750</td>\n",
       "      <td>1500</td>\n",
       "      <td>29</td>\n",
       "      <td>30</td>\n",
       "      <td>12.2</td>\n",
       "      <td>16</td>\n",
       "      <td>10527</td>\n",
       "      <td>56</td>\n",
       "    </tr>\n",
       "    <tr>\n",
       "      <th>Adrian College</th>\n",
       "      <td>Yes</td>\n",
       "      <td>1428</td>\n",
       "      <td>1097</td>\n",
       "      <td>336</td>\n",
       "      <td>22</td>\n",
       "      <td>50</td>\n",
       "      <td>1036</td>\n",
       "      <td>99</td>\n",
       "      <td>11250</td>\n",
       "      <td>3750</td>\n",
       "      <td>400</td>\n",
       "      <td>1165</td>\n",
       "      <td>53</td>\n",
       "      <td>66</td>\n",
       "      <td>12.9</td>\n",
       "      <td>30</td>\n",
       "      <td>8735</td>\n",
       "      <td>54</td>\n",
       "    </tr>\n",
       "    <tr>\n",
       "      <th>Agnes Scott College</th>\n",
       "      <td>Yes</td>\n",
       "      <td>417</td>\n",
       "      <td>349</td>\n",
       "      <td>137</td>\n",
       "      <td>60</td>\n",
       "      <td>89</td>\n",
       "      <td>510</td>\n",
       "      <td>63</td>\n",
       "      <td>12960</td>\n",
       "      <td>5450</td>\n",
       "      <td>450</td>\n",
       "      <td>875</td>\n",
       "      <td>92</td>\n",
       "      <td>97</td>\n",
       "      <td>7.7</td>\n",
       "      <td>37</td>\n",
       "      <td>19016</td>\n",
       "      <td>59</td>\n",
       "    </tr>\n",
       "    <tr>\n",
       "      <th>Alaska Pacific University</th>\n",
       "      <td>Yes</td>\n",
       "      <td>193</td>\n",
       "      <td>146</td>\n",
       "      <td>55</td>\n",
       "      <td>16</td>\n",
       "      <td>44</td>\n",
       "      <td>249</td>\n",
       "      <td>869</td>\n",
       "      <td>7560</td>\n",
       "      <td>4120</td>\n",
       "      <td>800</td>\n",
       "      <td>1500</td>\n",
       "      <td>76</td>\n",
       "      <td>72</td>\n",
       "      <td>11.9</td>\n",
       "      <td>2</td>\n",
       "      <td>10922</td>\n",
       "      <td>15</td>\n",
       "    </tr>\n",
       "  </tbody>\n",
       "</table>\n",
       "</div>"
      ],
      "text/plain": [
       "                             Private  Apps  Accept  Enroll  Top10perc  \\\n",
       "Abilene Christian University     Yes  1660    1232     721         23   \n",
       "Adelphi University               Yes  2186    1924     512         16   \n",
       "Adrian College                   Yes  1428    1097     336         22   \n",
       "Agnes Scott College              Yes   417     349     137         60   \n",
       "Alaska Pacific University        Yes   193     146      55         16   \n",
       "\n",
       "                              Top25perc  F.Undergrad  P.Undergrad  Outstate  \\\n",
       "Abilene Christian University         52         2885          537      7440   \n",
       "Adelphi University                   29         2683         1227     12280   \n",
       "Adrian College                       50         1036           99     11250   \n",
       "Agnes Scott College                  89          510           63     12960   \n",
       "Alaska Pacific University            44          249          869      7560   \n",
       "\n",
       "                              Room.Board  Books  Personal  PhD  Terminal  \\\n",
       "Abilene Christian University        3300    450      2200   70        78   \n",
       "Adelphi University                  6450    750      1500   29        30   \n",
       "Adrian College                      3750    400      1165   53        66   \n",
       "Agnes Scott College                 5450    450       875   92        97   \n",
       "Alaska Pacific University           4120    800      1500   76        72   \n",
       "\n",
       "                              S.F.Ratio  perc.alumni  Expend  Grad.Rate  \n",
       "Abilene Christian University       18.1           12    7041         60  \n",
       "Adelphi University                 12.2           16   10527         56  \n",
       "Adrian College                     12.9           30    8735         54  \n",
       "Agnes Scott College                 7.7           37   19016         59  \n",
       "Alaska Pacific University          11.9            2   10922         15  "
      ]
     },
     "execution_count": 5,
     "metadata": {},
     "output_type": "execute_result"
    }
   ],
   "source": [
    "#print the first 5 rows of the data\n",
    "#each row refers to a college\n",
    "#each column refers to an attribute for the colleges\n",
    "college_df.head()"
   ]
  },
  {
   "cell_type": "code",
   "execution_count": 6,
   "id": "27145eb6-8d50-4df7-8010-c8454336e506",
   "metadata": {},
   "outputs": [
    {
     "data": {
      "text/plain": [
       "Index(['Private', 'Apps', 'Accept', 'Enroll', 'Top10perc', 'Top25perc',\n",
       "       'F.Undergrad', 'P.Undergrad', 'Outstate', 'Room.Board', 'Books',\n",
       "       'Personal', 'PhD', 'Terminal', 'S.F.Ratio', 'perc.alumni', 'Expend',\n",
       "       'Grad.Rate'],\n",
       "      dtype='object')"
      ]
     },
     "execution_count": 6,
     "metadata": {},
     "output_type": "execute_result"
    }
   ],
   "source": [
    "#returns the column labels of the df\n",
    "college_df.columns"
   ]
  },
  {
   "cell_type": "code",
   "execution_count": 7,
   "id": "d20e3831-16f9-4909-b110-f7bf8cdf50a5",
   "metadata": {},
   "outputs": [
    {
     "data": {
      "text/plain": [
       "(777, 18)"
      ]
     },
     "execution_count": 7,
     "metadata": {},
     "output_type": "execute_result"
    }
   ],
   "source": [
    "#returns a tuple with number of rows and columns\n",
    "college_df.shape"
   ]
  },
  {
   "cell_type": "code",
   "execution_count": 8,
   "id": "4d622943-d97a-48ac-b6d3-190f3079d94c",
   "metadata": {},
   "outputs": [
    {
     "data": {
      "text/plain": [
       "pandas.core.frame.DataFrame"
      ]
     },
     "execution_count": 8,
     "metadata": {},
     "output_type": "execute_result"
    }
   ],
   "source": [
    "#Note that this is a data frame\n",
    "type(college_df)"
   ]
  },
  {
   "cell_type": "markdown",
   "id": "121b8e08-2d72-4ee2-b555-4bfdda95a3b8",
   "metadata": {},
   "source": [
    "**Note that** with the increasing variety of data that can be recorded electronically, not all data files have this traditional two-dimesional array format. For example, in medical records, some observations for some subjects may be images (e.g., dental x-rays, brain scans), hand-written prescriptions or a continuous streaming data over time such as monitoring the patient's heart-rate, respiratory rate etc."
   ]
  },
  {
   "cell_type": "markdown",
   "id": "f6495b5c-8593-4eed-bcf0-c52e4f03fd0c",
   "metadata": {},
   "source": [
    "## Variables\n",
    "\n",
    "- A **variable** is a characteristic that can **vary in value** in objects of a data.\n",
    "\n",
    "## Quantitative variables \n",
    "- A variable is called **quantitative** when the measurement scale has numerical values that represent different magnitudes of the variable. \n",
    "- **Examples of quantitative variables** are number of good friends, annual income, college GPA, age, and weight.\n",
    "- A quantitative variable is **discrete** if it can take a set of distinct, separate values, such as the non-negative integers (0,1,2,3, ...).\n",
    "- **Examples of discrete variables** are one’s number of good friends, number of computers in household,and number of days playing a sport in the past week.\n",
    "- A quantitative variable is **continuous** if it can take an infinite continuum of possible real number values. \n",
    "- **Examples of continuous variables** are height, weight, age, distance a person walks in a day, winning time in a marathon race, and how long a cell phone works before it needs recharging."
   ]
  },
  {
   "cell_type": "markdown",
   "id": "d1d0122e-eb60-4956-9f09-f54f6534be21",
   "metadata": {
    "tags": []
   },
   "source": [
    "## Categorical variables \n",
    "\n",
    "- A variable is called **categorical** when the measurement scale is a **set of categories**.\n",
    "- **Examples of categorical variables** are marital status (with categories such as _single, married,\n",
    "divorced, widowed_), primary mode of transportation to work (_automobile, bicycle, bus, sub-\n",
    "way, walk_), preferred destination for clothes shopping (_downtown, Internet, mall, other_),\n",
    "and favorite type of music (_classical, country, folk, jazz, rap/hip-hop, rock_).\n",
    "- Categorical variables are often called **qualitative**.\n",
    "- Categorical variables having only **two categories**, such as whether employed (yes, no), are called **binary**.\n",
    "- Categorical variables have **two types of measurement scales**. \n",
    "- For some categorical variables, the categories are **unordered**. The categories are then said to form a **nominal scale**.\n",
    "- By contrast, some categorical scales have a **natural ordering of values**.\n",
    "    The categories form an **ordinal scale**. \n",
    "- **Examples** are perceived happiness (_not too happy, pretty happy, very happy_), headache pain (_none, slight, moderate, severe_), and political philosophy (_very liberal, slightly liberal, moderate, slightly conservative, very conservative_)."
   ]
  },
  {
   "cell_type": "code",
   "execution_count": 9,
   "id": "5bd0cdde-56b4-453f-8aa6-9fdcf9ce7f4e",
   "metadata": {},
   "outputs": [
    {
     "data": {
      "text/plain": [
       "Private         object\n",
       "Apps             int64\n",
       "Accept           int64\n",
       "Enroll           int64\n",
       "Top10perc        int64\n",
       "Top25perc        int64\n",
       "F.Undergrad      int64\n",
       "P.Undergrad      int64\n",
       "Outstate         int64\n",
       "Room.Board       int64\n",
       "Books            int64\n",
       "Personal         int64\n",
       "PhD              int64\n",
       "Terminal         int64\n",
       "S.F.Ratio      float64\n",
       "perc.alumni      int64\n",
       "Expend           int64\n",
       "Grad.Rate        int64\n",
       "dtype: object"
      ]
     },
     "execution_count": 9,
     "metadata": {},
     "output_type": "execute_result"
    }
   ],
   "source": [
    "#print the data types of columns\n",
    "college_df.dtypes"
   ]
  },
  {
   "cell_type": "code",
   "execution_count": 10,
   "id": "361c4f6f-6675-4b16-ad95-2a2d02bd663e",
   "metadata": {},
   "outputs": [
    {
     "data": {
      "text/plain": [
       "array(['Yes', 'No'], dtype=object)"
      ]
     },
     "execution_count": 10,
     "metadata": {},
     "output_type": "execute_result"
    }
   ],
   "source": [
    "#private atrribute is a binary variable\n",
    "college_df['Private'].unique()"
   ]
  },
  {
   "cell_type": "code",
   "execution_count": 11,
   "id": "55c9de49-c978-4c42-af78-5dcc6179a90d",
   "metadata": {},
   "outputs": [
    {
     "data": {
      "text/plain": [
       "array([ 450,  750,  400,  800,  500,  300,  660,  600,  650,  550,  900,\n",
       "         96,  350,  700,  540, 1000,  355,  630,  475, 1495, 2000,  410,\n",
       "        560,  860,  720,  425,  612,  480,  525,  526,  570, 2340,  654,\n",
       "        666,  380,  470,  680,  595,  520,  625,  530,  120,  490,  330,\n",
       "        580,  670,  795,  531,  465,  537,  640,  634,  920,  508,  528,\n",
       "        225,  618,  545,  575,  725,  375,  504, 1100,  200,  250,  850,\n",
       "        620,  759,  558,  515,  420,  616,  512,  436,  598,  554,  675,\n",
       "        610,  370, 1230,  955,  690,  569, 1200,  221,  576,  430,  385,\n",
       "        275,  711,  708, 1125,  635,  468,  518,  636,  790,  556,  687,\n",
       "        494,  476,  753,  714,  765,  495,  452, 1300,  646,  858,  541,\n",
       "        376,  535,  740,  585,  768, 1400,  110,  498,  639,  678,  605,\n",
       "        617])"
      ]
     },
     "execution_count": 11,
     "metadata": {},
     "output_type": "execute_result"
    }
   ],
   "source": [
    "#books is a discrete variable\n",
    "college_df['Books'].unique()"
   ]
  },
  {
   "cell_type": "code",
   "execution_count": 12,
   "id": "7e7300b9-570b-4c5e-b045-9184dba6d733",
   "metadata": {},
   "outputs": [
    {
     "name": "stdout",
     "output_type": "stream",
     "text": [
      "<class 'pandas.core.frame.DataFrame'>\n",
      "Index: 777 entries, Abilene Christian University to York College of Pennsylvania\n",
      "Data columns (total 18 columns):\n",
      " #   Column       Non-Null Count  Dtype  \n",
      "---  ------       --------------  -----  \n",
      " 0   Private      777 non-null    object \n",
      " 1   Apps         777 non-null    int64  \n",
      " 2   Accept       777 non-null    int64  \n",
      " 3   Enroll       777 non-null    int64  \n",
      " 4   Top10perc    777 non-null    int64  \n",
      " 5   Top25perc    777 non-null    int64  \n",
      " 6   F.Undergrad  777 non-null    int64  \n",
      " 7   P.Undergrad  777 non-null    int64  \n",
      " 8   Outstate     777 non-null    int64  \n",
      " 9   Room.Board   777 non-null    int64  \n",
      " 10  Books        777 non-null    int64  \n",
      " 11  Personal     777 non-null    int64  \n",
      " 12  PhD          777 non-null    int64  \n",
      " 13  Terminal     777 non-null    int64  \n",
      " 14  S.F.Ratio    777 non-null    float64\n",
      " 15  perc.alumni  777 non-null    int64  \n",
      " 16  Expend       777 non-null    int64  \n",
      " 17  Grad.Rate    777 non-null    int64  \n",
      "dtypes: float64(1), int64(16), object(1)\n",
      "memory usage: 115.3+ KB\n"
     ]
    }
   ],
   "source": [
    "#get a general summary of the data\n",
    "college_df.info()"
   ]
  },
  {
   "cell_type": "markdown",
   "id": "a4b85c7e-08c4-497d-a72a-260d56d47989",
   "metadata": {
    "tags": []
   },
   "source": [
    "## Why do we analyze data?\n",
    "\n",
    "-   To understand **what has happened** or **what is happening**,\n",
    "-   To **predict** what is likely to happen, either in the **future** or in other circumstances we have not seen or observed yet,\n",
    "-   To guide us in **making decisions**."
   ]
  },
  {
   "cell_type": "markdown",
   "id": "df39ecb1-8b29-429c-9941-a59f374524ef",
   "metadata": {},
   "source": [
    "## How to exploring a new data set?\n",
    "\n",
    "1. Assess the general characteristics of the data set, e.g., \n",
    "   - How many subjects/objects do we have? How many variables?\n",
    "   - What are the variable names? Are they meaningful? Are the names compatible with\n",
    "     the software syntax we are goint to use?\n",
    "   - What type is each variable - e.g., numeric (discrete or continuous), categorical?\n",
    "   - How many unique values does each variable, especially categorical ones, have? (Very important to know before data splitting).\n",
    "   - Are there any missing observations?"
   ]
  },
  {
   "cell_type": "code",
   "execution_count": 13,
   "id": "708ed63c-b6a4-408e-851a-cbbb22c6ccc8",
   "metadata": {},
   "outputs": [
    {
     "data": {
      "text/plain": [
       "Private        0\n",
       "Apps           0\n",
       "Accept         0\n",
       "Enroll         0\n",
       "Top10perc      0\n",
       "Top25perc      0\n",
       "F.Undergrad    0\n",
       "P.Undergrad    0\n",
       "Outstate       0\n",
       "Room.Board     0\n",
       "Books          0\n",
       "Personal       0\n",
       "PhD            0\n",
       "Terminal       0\n",
       "S.F.Ratio      0\n",
       "perc.alumni    0\n",
       "Expend         0\n",
       "Grad.Rate      0\n",
       "dtype: int64"
      ]
     },
     "execution_count": 13,
     "metadata": {},
     "output_type": "execute_result"
    }
   ],
   "source": [
    "#we already checked most of them, but let's check\n",
    "#whether any missing values\n",
    "#college_df.isnull(): alias of isna()  \n",
    "college_df.isna().sum()   "
   ]
  },
  {
   "cell_type": "markdown",
   "id": "08aa80e6-4152-4a23-8afb-8f6854c9593f",
   "metadata": {},
   "source": [
    "2. Examine **descriptive statistics** for each variable.\n",
    "\n",
    "  - Descriptive statistics are numbers computed from the data that present a summary of the variables.\n",
    "  \n",
    "### Measures of Location\n",
    "   - The most common measures of location are the **Mean**, the **Median**, the **Mode**, and the **Quartiles**.\n",
    "   - **Mean**: the arithmetic average of all the observations. The mean equals the sum of all observations divided by the sample size.\n",
    "   - **Median**: the middle-most value of the ranked set of observations so that half the observations are greater than the median and the other half is less. Median is a robust measure of central tendency\n",
    "   - **Note that** the mean is very sensitive to **outliers **(extreme or unusual observations) whereas the median is not. \n",
    "   - **Mode**: the most frequently occurring value in the data set. This makes more sense when attributes are not continuous.\n",
    "   - **Quartiles**: division points which split data into four equal parts after rank-ordering them.\n",
    "      - Division points are called **Q1** (the first quartile), **Q2** (the second quartile or median), and **Q3** (the third quartile)\n",
    "      - Similarly, **Deciles** and **Percentiles** are defined as division points that divide the rank-ordered data into **10** and **100** equal segments. "
   ]
  },
  {
   "cell_type": "code",
   "execution_count": 14,
   "id": "b3a94898-0691-4e08-b438-94bb37b14909",
   "metadata": {},
   "outputs": [
    {
     "data": {
      "text/plain": [
       "Apps            3001.638353\n",
       "Accept          2018.804376\n",
       "Enroll           779.972973\n",
       "Top10perc         27.558559\n",
       "Top25perc         55.796654\n",
       "F.Undergrad     3699.907336\n",
       "P.Undergrad      855.298584\n",
       "Outstate       10440.669241\n",
       "Room.Board      4357.526384\n",
       "Books            549.380952\n",
       "Personal        1340.642214\n",
       "PhD               72.660232\n",
       "Terminal          79.702703\n",
       "S.F.Ratio         14.089704\n",
       "perc.alumni       22.743887\n",
       "Expend          9660.171171\n",
       "Grad.Rate         65.463320\n",
       "dtype: float64"
      ]
     },
     "execution_count": 14,
     "metadata": {},
     "output_type": "execute_result"
    }
   ],
   "source": [
    "#get the mean values of numeric columns only\n",
    "#by default skipna=True\n",
    "college_df.mean(numeric_only = True)"
   ]
  },
  {
   "cell_type": "code",
   "execution_count": 15,
   "id": "dd9bed05-ebae-41a9-85e1-2e2a2c103d1d",
   "metadata": {},
   "outputs": [
    {
     "data": {
      "text/plain": [
       "Apps           1558.0\n",
       "Accept         1110.0\n",
       "Enroll          434.0\n",
       "Top10perc        23.0\n",
       "Top25perc        54.0\n",
       "F.Undergrad    1707.0\n",
       "P.Undergrad     353.0\n",
       "Outstate       9990.0\n",
       "Room.Board     4200.0\n",
       "Books           500.0\n",
       "Personal       1200.0\n",
       "PhD              75.0\n",
       "Terminal         82.0\n",
       "S.F.Ratio        13.6\n",
       "perc.alumni      21.0\n",
       "Expend         8377.0\n",
       "Grad.Rate        65.0\n",
       "dtype: float64"
      ]
     },
     "execution_count": 15,
     "metadata": {},
     "output_type": "execute_result"
    }
   ],
   "source": [
    "#get the median values of numeric columns only\n",
    "college_df.median(numeric_only = True)"
   ]
  },
  {
   "cell_type": "code",
   "execution_count": 16,
   "id": "7cf9066f-c336-445e-8137-333b7278dd72",
   "metadata": {},
   "outputs": [
    {
     "data": {
      "text/plain": [
       "0    12.1\n",
       "dtype: float64"
      ]
     },
     "execution_count": 16,
     "metadata": {},
     "output_type": "execute_result"
    }
   ],
   "source": [
    "college_df['S.F.Ratio'].mode()"
   ]
  },
  {
   "cell_type": "code",
   "execution_count": 17,
   "id": "2af9d12d-2e39-49a9-ab53-1f659159b05e",
   "metadata": {},
   "outputs": [
    {
     "data": {
      "text/plain": [
       "0    Yes\n",
       "dtype: object"
      ]
     },
     "execution_count": 17,
     "metadata": {},
     "output_type": "execute_result"
    }
   ],
   "source": [
    "college_df['Private'].mode()"
   ]
  },
  {
   "cell_type": "code",
   "execution_count": 18,
   "id": "e83ec8dd-2c0c-4ac4-8c52-f363cee385da",
   "metadata": {},
   "outputs": [
    {
     "data": {
      "text/plain": [
       "Yes    565\n",
       "No     212\n",
       "Name: Private, dtype: int64"
      ]
     },
     "execution_count": 18,
     "metadata": {},
     "output_type": "execute_result"
    }
   ],
   "source": [
    "#get the frequency of each category of Private variable\n",
    "college_df['Private'].value_counts()"
   ]
  },
  {
   "cell_type": "markdown",
   "id": "b57f77b9-dd8f-4a1b-a274-5c7e8eaaacc5",
   "metadata": {},
   "source": [
    "### Measures of Spread\n",
    " - Measures of location are not enough to **capture all aspects of the variables**.\n",
    " - Measures of dispersion are necessary to understand the **variability** of the data. \n",
    " - The most common measure of dispersion is the **Variance**, the **Standard Deviation**, the **Interquartile Range** and **Range**.\n",
    " - **Variance**: measures how far data values lie from the mean. It is defined as the average of the squared differences between the mean and the individual data values.\n",
    " - **Standard Deviation**: is the square root of the variance.  It is defined as the average distance between the mean and the individual data values.\n",
    " - **Interquartile range (IQR)**: is the difference between Q3 and Q1. IQR contains the middle 50% of data.\n",
    " - **Range** is the difference between the maximum and minimum values in the sample."
   ]
  },
  {
   "cell_type": "code",
   "execution_count": 19,
   "id": "5f088426-beab-44f9-9cee-d8e34d5cc4b3",
   "metadata": {},
   "outputs": [
    {
     "data": {
      "text/plain": [
       "Apps           1.497846e+07\n",
       "Accept         6.007960e+06\n",
       "Enroll         8.633684e+05\n",
       "Top10perc      3.111825e+02\n",
       "Top25perc      3.922292e+02\n",
       "F.Undergrad    2.352658e+07\n",
       "P.Undergrad    2.317799e+06\n",
       "Outstate       1.618466e+07\n",
       "Room.Board     1.202743e+06\n",
       "Books          2.725978e+04\n",
       "Personal       4.584258e+05\n",
       "PhD            2.666086e+02\n",
       "Terminal       2.167478e+02\n",
       "S.F.Ratio      1.566853e+01\n",
       "perc.alumni    1.535567e+02\n",
       "Expend         2.726687e+07\n",
       "Grad.Rate      2.950737e+02\n",
       "dtype: float64"
      ]
     },
     "execution_count": 19,
     "metadata": {},
     "output_type": "execute_result"
    }
   ],
   "source": [
    "#get the variance values of numeric columns only\n",
    "#by default skipna=True\n",
    "college_df.var(numeric_only = True)"
   ]
  },
  {
   "cell_type": "code",
   "execution_count": 20,
   "id": "64ce0f53-658f-4fe1-8a53-a53cd463b658",
   "metadata": {},
   "outputs": [
    {
     "data": {
      "text/plain": [
       "Apps           3870.201484\n",
       "Accept         2451.113971\n",
       "Enroll          929.176190\n",
       "Top10perc        17.640364\n",
       "Top25perc        19.804778\n",
       "F.Undergrad    4850.420531\n",
       "P.Undergrad    1522.431887\n",
       "Outstate       4023.016484\n",
       "Room.Board     1096.696416\n",
       "Books           165.105360\n",
       "Personal        677.071454\n",
       "PhD              16.328155\n",
       "Terminal         14.722359\n",
       "S.F.Ratio         3.958349\n",
       "perc.alumni      12.391801\n",
       "Expend         5221.768440\n",
       "Grad.Rate        17.177710\n",
       "dtype: float64"
      ]
     },
     "execution_count": 20,
     "metadata": {},
     "output_type": "execute_result"
    }
   ],
   "source": [
    "#get the std values of numeric columns only\n",
    "#by default skipna=True\n",
    "college_df.std(numeric_only = True)"
   ]
  },
  {
   "cell_type": "code",
   "execution_count": 21,
   "id": "1c7a8de1-7715-4783-ba3d-60c81bc0d9b3",
   "metadata": {},
   "outputs": [
    {
     "data": {
      "text/html": [
       "<div>\n",
       "<style scoped>\n",
       "    .dataframe tbody tr th:only-of-type {\n",
       "        vertical-align: middle;\n",
       "    }\n",
       "\n",
       "    .dataframe tbody tr th {\n",
       "        vertical-align: top;\n",
       "    }\n",
       "\n",
       "    .dataframe thead th {\n",
       "        text-align: right;\n",
       "    }\n",
       "</style>\n",
       "<table border=\"1\" class=\"dataframe\">\n",
       "  <thead>\n",
       "    <tr style=\"text-align: right;\">\n",
       "      <th></th>\n",
       "      <th>Apps</th>\n",
       "      <th>Accept</th>\n",
       "      <th>Enroll</th>\n",
       "      <th>Top10perc</th>\n",
       "      <th>Top25perc</th>\n",
       "      <th>F.Undergrad</th>\n",
       "      <th>P.Undergrad</th>\n",
       "      <th>Outstate</th>\n",
       "      <th>Room.Board</th>\n",
       "      <th>Books</th>\n",
       "      <th>Personal</th>\n",
       "      <th>PhD</th>\n",
       "      <th>Terminal</th>\n",
       "      <th>S.F.Ratio</th>\n",
       "      <th>perc.alumni</th>\n",
       "      <th>Expend</th>\n",
       "      <th>Grad.Rate</th>\n",
       "    </tr>\n",
       "  </thead>\n",
       "  <tbody>\n",
       "    <tr>\n",
       "      <th>count</th>\n",
       "      <td>777.00</td>\n",
       "      <td>777.00</td>\n",
       "      <td>777.00</td>\n",
       "      <td>777.00</td>\n",
       "      <td>777.0</td>\n",
       "      <td>777.00</td>\n",
       "      <td>777.00</td>\n",
       "      <td>777.00</td>\n",
       "      <td>777.00</td>\n",
       "      <td>777.00</td>\n",
       "      <td>777.00</td>\n",
       "      <td>777.00</td>\n",
       "      <td>777.00</td>\n",
       "      <td>777.00</td>\n",
       "      <td>777.00</td>\n",
       "      <td>777.00</td>\n",
       "      <td>777.00</td>\n",
       "    </tr>\n",
       "    <tr>\n",
       "      <th>mean</th>\n",
       "      <td>3001.64</td>\n",
       "      <td>2018.80</td>\n",
       "      <td>779.97</td>\n",
       "      <td>27.56</td>\n",
       "      <td>55.8</td>\n",
       "      <td>3699.91</td>\n",
       "      <td>855.30</td>\n",
       "      <td>10440.67</td>\n",
       "      <td>4357.53</td>\n",
       "      <td>549.38</td>\n",
       "      <td>1340.64</td>\n",
       "      <td>72.66</td>\n",
       "      <td>79.70</td>\n",
       "      <td>14.09</td>\n",
       "      <td>22.74</td>\n",
       "      <td>9660.17</td>\n",
       "      <td>65.46</td>\n",
       "    </tr>\n",
       "    <tr>\n",
       "      <th>std</th>\n",
       "      <td>3870.20</td>\n",
       "      <td>2451.11</td>\n",
       "      <td>929.18</td>\n",
       "      <td>17.64</td>\n",
       "      <td>19.8</td>\n",
       "      <td>4850.42</td>\n",
       "      <td>1522.43</td>\n",
       "      <td>4023.02</td>\n",
       "      <td>1096.70</td>\n",
       "      <td>165.11</td>\n",
       "      <td>677.07</td>\n",
       "      <td>16.33</td>\n",
       "      <td>14.72</td>\n",
       "      <td>3.96</td>\n",
       "      <td>12.39</td>\n",
       "      <td>5221.77</td>\n",
       "      <td>17.18</td>\n",
       "    </tr>\n",
       "    <tr>\n",
       "      <th>min</th>\n",
       "      <td>81.00</td>\n",
       "      <td>72.00</td>\n",
       "      <td>35.00</td>\n",
       "      <td>1.00</td>\n",
       "      <td>9.0</td>\n",
       "      <td>139.00</td>\n",
       "      <td>1.00</td>\n",
       "      <td>2340.00</td>\n",
       "      <td>1780.00</td>\n",
       "      <td>96.00</td>\n",
       "      <td>250.00</td>\n",
       "      <td>8.00</td>\n",
       "      <td>24.00</td>\n",
       "      <td>2.50</td>\n",
       "      <td>0.00</td>\n",
       "      <td>3186.00</td>\n",
       "      <td>10.00</td>\n",
       "    </tr>\n",
       "    <tr>\n",
       "      <th>25%</th>\n",
       "      <td>776.00</td>\n",
       "      <td>604.00</td>\n",
       "      <td>242.00</td>\n",
       "      <td>15.00</td>\n",
       "      <td>41.0</td>\n",
       "      <td>992.00</td>\n",
       "      <td>95.00</td>\n",
       "      <td>7320.00</td>\n",
       "      <td>3597.00</td>\n",
       "      <td>470.00</td>\n",
       "      <td>850.00</td>\n",
       "      <td>62.00</td>\n",
       "      <td>71.00</td>\n",
       "      <td>11.50</td>\n",
       "      <td>13.00</td>\n",
       "      <td>6751.00</td>\n",
       "      <td>53.00</td>\n",
       "    </tr>\n",
       "    <tr>\n",
       "      <th>50%</th>\n",
       "      <td>1558.00</td>\n",
       "      <td>1110.00</td>\n",
       "      <td>434.00</td>\n",
       "      <td>23.00</td>\n",
       "      <td>54.0</td>\n",
       "      <td>1707.00</td>\n",
       "      <td>353.00</td>\n",
       "      <td>9990.00</td>\n",
       "      <td>4200.00</td>\n",
       "      <td>500.00</td>\n",
       "      <td>1200.00</td>\n",
       "      <td>75.00</td>\n",
       "      <td>82.00</td>\n",
       "      <td>13.60</td>\n",
       "      <td>21.00</td>\n",
       "      <td>8377.00</td>\n",
       "      <td>65.00</td>\n",
       "    </tr>\n",
       "    <tr>\n",
       "      <th>75%</th>\n",
       "      <td>3624.00</td>\n",
       "      <td>2424.00</td>\n",
       "      <td>902.00</td>\n",
       "      <td>35.00</td>\n",
       "      <td>69.0</td>\n",
       "      <td>4005.00</td>\n",
       "      <td>967.00</td>\n",
       "      <td>12925.00</td>\n",
       "      <td>5050.00</td>\n",
       "      <td>600.00</td>\n",
       "      <td>1700.00</td>\n",
       "      <td>85.00</td>\n",
       "      <td>92.00</td>\n",
       "      <td>16.50</td>\n",
       "      <td>31.00</td>\n",
       "      <td>10830.00</td>\n",
       "      <td>78.00</td>\n",
       "    </tr>\n",
       "    <tr>\n",
       "      <th>max</th>\n",
       "      <td>48094.00</td>\n",
       "      <td>26330.00</td>\n",
       "      <td>6392.00</td>\n",
       "      <td>96.00</td>\n",
       "      <td>100.0</td>\n",
       "      <td>31643.00</td>\n",
       "      <td>21836.00</td>\n",
       "      <td>21700.00</td>\n",
       "      <td>8124.00</td>\n",
       "      <td>2340.00</td>\n",
       "      <td>6800.00</td>\n",
       "      <td>103.00</td>\n",
       "      <td>100.00</td>\n",
       "      <td>39.80</td>\n",
       "      <td>64.00</td>\n",
       "      <td>56233.00</td>\n",
       "      <td>118.00</td>\n",
       "    </tr>\n",
       "  </tbody>\n",
       "</table>\n",
       "</div>"
      ],
      "text/plain": [
       "           Apps    Accept   Enroll  Top10perc  Top25perc  F.Undergrad  \\\n",
       "count    777.00    777.00   777.00     777.00      777.0       777.00   \n",
       "mean    3001.64   2018.80   779.97      27.56       55.8      3699.91   \n",
       "std     3870.20   2451.11   929.18      17.64       19.8      4850.42   \n",
       "min       81.00     72.00    35.00       1.00        9.0       139.00   \n",
       "25%      776.00    604.00   242.00      15.00       41.0       992.00   \n",
       "50%     1558.00   1110.00   434.00      23.00       54.0      1707.00   \n",
       "75%     3624.00   2424.00   902.00      35.00       69.0      4005.00   \n",
       "max    48094.00  26330.00  6392.00      96.00      100.0     31643.00   \n",
       "\n",
       "       P.Undergrad  Outstate  Room.Board    Books  Personal     PhD  Terminal  \\\n",
       "count       777.00    777.00      777.00   777.00    777.00  777.00    777.00   \n",
       "mean        855.30  10440.67     4357.53   549.38   1340.64   72.66     79.70   \n",
       "std        1522.43   4023.02     1096.70   165.11    677.07   16.33     14.72   \n",
       "min           1.00   2340.00     1780.00    96.00    250.00    8.00     24.00   \n",
       "25%          95.00   7320.00     3597.00   470.00    850.00   62.00     71.00   \n",
       "50%         353.00   9990.00     4200.00   500.00   1200.00   75.00     82.00   \n",
       "75%         967.00  12925.00     5050.00   600.00   1700.00   85.00     92.00   \n",
       "max       21836.00  21700.00     8124.00  2340.00   6800.00  103.00    100.00   \n",
       "\n",
       "       S.F.Ratio  perc.alumni    Expend  Grad.Rate  \n",
       "count     777.00       777.00    777.00     777.00  \n",
       "mean       14.09        22.74   9660.17      65.46  \n",
       "std         3.96        12.39   5221.77      17.18  \n",
       "min         2.50         0.00   3186.00      10.00  \n",
       "25%        11.50        13.00   6751.00      53.00  \n",
       "50%        13.60        21.00   8377.00      65.00  \n",
       "75%        16.50        31.00  10830.00      78.00  \n",
       "max        39.80        64.00  56233.00     118.00  "
      ]
     },
     "execution_count": 21,
     "metadata": {},
     "output_type": "execute_result"
    }
   ],
   "source": [
    "#or get a full summary for each variable\n",
    "#you need to manually calculate IQR=Q3-Q1\n",
    "college_df.describe().round(2)"
   ]
  },
  {
   "cell_type": "markdown",
   "id": "85e1f1c9-4aef-4c23-bb20-c29a16346642",
   "metadata": {},
   "source": [
    "### Measures of Skewness\n",
    "\n",
    "- In addition to the measures of **location** and **dispersion**, \n",
    "the arrangement of data or the shape of the data distribution is also of considerable interest. \n",
    "- The most 'well-behaved' distribution is a **symmetric distribution** where the mean and the median are coincident. \n",
    "- The symmetry is lost if **there exists a tail** in either direction. \n",
    "- Skewness measures whether or not a distribution has a single long tail.\n",
    "- The sample skewness is measured as:\n",
    "    \n",
    "     $$ \\frac{\\sqrt{n}\\sum_{i}^{n}(x_i-\\bar{x})^3}{\\big(\\sum_{i}^{n}(x_i-\\bar{x})^2\\big)^\\frac{3}{2}}. $$"
   ]
  },
  {
   "cell_type": "code",
   "execution_count": 31,
   "id": "e6dc53d1-80bb-4afc-af28-20abae05ec24",
   "metadata": {},
   "outputs": [
    {
     "data": {
      "image/png": "[encoded data removed]",
      "text/plain": [
       "<Figure size 432x288 with 1 Axes>"
      ]
     },
     "metadata": {
      "needs_background": "light"
     },
     "output_type": "display_data"
    }
   ],
   "source": [
    "import numpy as np\n",
    "import scipy.stats as stats\n",
    "import matplotlib.pyplot as plt\n",
    "#generate large number of random variables from standard normal dist.\n",
    "#returns a numpy array\n",
    "x = stats.norm.rvs(loc = 0, scale = 1, size = 100000, random_state = 1773)\n",
    "#get a histogram of the data\n",
    "plt.hist(x, alpha = 0.5, edgecolor = 'black')\n",
    "plt.title('A symmetric distribution example', weight = \"bold\")\n",
    "plt.ylabel('Frequency')\n",
    "plt.xlabel('Values')\n",
    "plt.text(2, 30000, 'Skewness = 0', weight = \"bold\")  \n",
    "plt.show()"
   ]
  },
  {
   "cell_type": "code",
   "execution_count": 30,
   "id": "cb1db67a-0762-4aa8-88ba-f20ad3dc2e2d",
   "metadata": {},
   "outputs": [
    {
     "name": "stdout",
     "output_type": "stream",
     "text": [
      "Mean=-0.0015, Median=0.0015\n"
     ]
    }
   ],
   "source": [
    "#https://stackoverflow.com/questions/40112487/attributeerror-numpy-ndarray-object-has-no-attribute-median\n",
    "#https://numpy.org/doc/stable/reference/generated/numpy.ndarray.html\n",
    "#check out the mean and median, they should be close to each other\n",
    "print('Mean=%.4f, Median=%.4f'% (np.mean(x), np.median(x)))"
   ]
  },
  {
   "cell_type": "code",
   "execution_count": null,
   "id": "18594d2a-288f-4e6a-a942-91e5c02ebad0",
   "metadata": {},
   "outputs": [],
   "source": [
    "#or get the other measures, look at in\n",
    "#the symmetric distributions, skewness is close to 0.\n",
    "stats.describe(x)"
   ]
  },
  {
   "cell_type": "code",
   "execution_count": 33,
   "id": "658dbe91-3818-4310-ab26-200131e899a0",
   "metadata": {},
   "outputs": [
    {
     "data": {
      "image/png": "[encoded data removed]",
      "text/plain": [
       "<Figure size 432x288 with 1 Axes>"
      ]
     },
     "metadata": {
      "needs_background": "light"
     },
     "output_type": "display_data"
    }
   ],
   "source": [
    "#generate large number of random variables from exponential dist. with scale param = 1\n",
    "#returns a numpy array\n",
    "y = stats.expon.rvs(scale = 1, size = 100000, random_state = 1773)\n",
    "#get a histogram of the data\n",
    "plt.hist(y, alpha = 0.5, edgecolor = 'black')\n",
    "plt.title('A right-skewed distribution example', weight = \"bold\")\n",
    "plt.ylabel('Frequency')\n",
    "plt.xlabel('Values')\n",
    "plt.text(10, 60000, 'Skewness > 0', weight = \"bold\")    \n",
    "plt.show()"
   ]
  },
  {
   "cell_type": "code",
   "execution_count": null,
   "id": "ed80fbe7-5ebd-46ce-a6e8-12726ebdfbf0",
   "metadata": {},
   "outputs": [],
   "source": [
    "#check out the mean and median, mean should be greater than median\n",
    "print('Mean=%.4f, Median=%.4f'% (y.mean(), np.median(y)))"
   ]
  },
  {
   "cell_type": "code",
   "execution_count": null,
   "id": "92f1809b-a298-479b-b142-5e126aabefe5",
   "metadata": {},
   "outputs": [],
   "source": [
    "#or get the other measures, look at, in\n",
    "#the right-skewed distributions, skewness is positive.\n",
    "stats.describe(y)"
   ]
  },
  {
   "cell_type": "code",
   "execution_count": 32,
   "id": "519a2c98-c6b3-46fb-a8f3-65cd727e36c1",
   "metadata": {},
   "outputs": [
    {
     "data": {
      "image/png": "[encoded data removed]",
      "text/plain": [
       "<Figure size 432x288 with 1 Axes>"
      ]
     },
     "metadata": {
      "needs_background": "light"
     },
     "output_type": "display_data"
    }
   ],
   "source": [
    "#generate large number of random variables from a left skeed dist. with skeweness -5\n",
    "#returns a numpy array\n",
    "z = stats.skewnorm.rvs(a = -5, size = 100000, random_state = 1773)\n",
    "#get a histogram of the data\n",
    "plt.hist(z, alpha = 0.5, edgecolor = 'black')\n",
    "plt.title('A left-skewed distribution example', weight = \"bold\")\n",
    "plt.ylabel('Frequency')\n",
    "plt.xlabel('Values')\n",
    "plt.text(-4, 25000, 'Skewness < 0', weight = \"bold\")  \n",
    "plt.show()"
   ]
  },
  {
   "cell_type": "code",
   "execution_count": null,
   "id": "183d3e04-ff23-4491-87ab-1eedb317279d",
   "metadata": {},
   "outputs": [],
   "source": [
    "#check out the mean and median, mean should be smaller than median\n",
    "print('Mean=%.4f, Median=%.4f'% (z.mean(), np.median(z)))"
   ]
  },
  {
   "cell_type": "code",
   "execution_count": null,
   "id": "39936b24-b211-49e6-adc0-75feb715fdda",
   "metadata": {},
   "outputs": [],
   "source": [
    "#or get the other measures, look at in\n",
    "#the right-skewed distributions, skewness is positive.\n",
    "stats.describe(z)"
   ]
  },
  {
   "cell_type": "markdown",
   "id": "66c5decc-42c3-4996-9eca-0a976f9d8b94",
   "metadata": {
    "tags": []
   },
   "source": [
    "## Box-Cox Transformation\n",
    "\n",
    "- A **Box-Cox transformation** is a commonly used statistical method for transforming a **non-normally distributed data** into a **more normally distributed data**.\n",
    "- The basic idea behind this method is to find some value for $\\lambda$ such that the **transformed data** is as close to **normally distributed** as possible, using the following formula:\n",
    "\n",
    "$$\n",
    "y(\\lambda)=\\begin{cases} \n",
    "      y^{\\lambda}-1, & \\quad y \\neq 0 \\\\\n",
    "      log(y) & \\quad y = 0 \\\\\n",
    "   \\end{cases}.\n",
    "$$"
   ]
  },
  {
   "cell_type": "code",
   "execution_count": null,
   "id": "c557af90-9db3-4d08-b400-b55abc732a2a",
   "metadata": {},
   "outputs": [],
   "source": [
    "#perform Box-Cox transformation on y (original data)\n",
    "transformed_y, best_lambda = stats.boxcox(y) \n",
    "#this the lambda that maximizes the log-likelihood function.\n",
    "print('λ = %.4f' % (best_lambda))"
   ]
  },
  {
   "cell_type": "code",
   "execution_count": null,
   "id": "68d49911-8877-4fcb-aad3-a5ed261c08f5",
   "metadata": {},
   "outputs": [],
   "source": [
    "#get a histogram of the transformed data\n",
    "#we can see that the transformed data follows a normal distribution.\n",
    "plt.hist(transformed_y, alpha = 0.5)\n",
    "plt.title('Histogram of the transformed data', weight = \"bold\")\n",
    "plt.ylabel('Frequency')\n",
    "plt.xlabel('Values')\n",
    "plt.show()"
   ]
  },
  {
   "cell_type": "markdown",
   "id": "dccab9d4-bf01-44bf-9b06-ac800772d6fc",
   "metadata": {},
   "source": [
    "## Shapiro-Wilk Test\n",
    "\n",
    "- [Shapiro-Wilk test](https://en.wikipedia.org/wiki/Shapiro%E2%80%93Wilk_test) is a non-parametric statistical test used for testing normality. \n",
    "- The hypothesis of the Shapiro-Wilk test is:\n",
    "\n",
    "  $H_0$: The sample $x_1,\\ldots, x_n$ comes from a normally distributed population.\n",
    "  \n",
    "  $H_1$: The sample $x_1, \\ldots,x_n$ does not come from a normally distributed population.\n",
    "  \n",
    " - Since the test statistic does not follow a distribution (quantiles of the statistic is calculated through resampling based methods), its cut-off values are not tabulated. Here is the [original paper](https://sci2s.ugr.es/keel/pdf/algorithm/articulo/royston1982.pdf).\n",
    "- One way to perform Shapiro-Wilk test is to rely on statistical software/libraries performing this test.\n",
    " - When you get the observed value of the statistic and corresponding p-value of the test:\n",
    "   - If the **p-value** is **less than** the chosen significance level (e.g., for an alpha level of 0.05), then $H_0$ is rejected and there is evidence that the **data** tested are **not** normally distributed. \n",
    "   - On the other hand, if the **p-value** is **greater** than the chosen significance level, then $H_0$ cannot be rejected, then we can conclude that the **data** is from a **normally** distributed population."
   ]
  },
  {
   "cell_type": "code",
   "execution_count": null,
   "id": "e4bad65d-f645-4c9e-ad0b-41d4ccba2b01",
   "metadata": {},
   "outputs": [],
   "source": [
    "#let's apply Shapiro-Wilk test to the data named x (we already know that\n",
    "#it comes from normal distribution\n",
    "#the function returns the osberved test statistic and its corresponding p-value.\n",
    "shapiro_stat, p_value = stats.shapiro(x)\n",
    "print('P-value = %.4f' % (p_value))"
   ]
  },
  {
   "cell_type": "markdown",
   "id": "99603a72-43b8-4623-bd34-e393c6cc0049",
   "metadata": {},
   "source": [
    "Since the p-value = 0.9466 is greater than 0.05, we **fail to reject** the null hypothesis. \n",
    "We **do not have sufficient evidence** to say that the data **does not come from a normal distribution**."
   ]
  },
  {
   "cell_type": "code",
   "execution_count": null,
   "id": "c0d0fd21-e804-4769-9087-a207817e8431",
   "metadata": {},
   "outputs": [],
   "source": [
    "#let's apply Shapiro-Wilk test to the data named y which is generated from exponential dist.\n",
    "#the function returns the osberved test statistic and its corresponding p-value.\n",
    "shapiro_stat, p_value = stats.shapiro(y)\n",
    "print('P-value = %.4f' % (p_value))"
   ]
  },
  {
   "cell_type": "markdown",
   "id": "18836e1d-a13e-418b-b4b9-bf6c00da8e05",
   "metadata": {},
   "source": [
    "Since the p-value = 0.0000 is less than .05, we **reject** the null hypothesis. We **have sufficient evidence** to say that the data **does not come from a normal distribution**."
   ]
  },
  {
   "cell_type": "markdown",
   "id": "637eec4c-1e5b-4fe7-a444-b7344593b2d7",
   "metadata": {},
   "source": [
    "A **note** from [scipy.stats.shapiro](https://docs.scipy.org/doc/scipy/reference/generated/scipy.stats.shapiro.html?highlight=shapiro#scipy.stats.shapiro) says that \"For N > 5000 the W test statistic is accurate but the p-value may not be.\""
   ]
  },
  {
   "cell_type": "markdown",
   "id": "6599ed7b-8750-402b-91a4-165608e80fc0",
   "metadata": {
    "tags": []
   },
   "source": [
    "## Measures of Correlation\n",
    "\n",
    "- Correlation describes the **degree** and **direction** of the **linear relationship** between two variables, $X$ and $Y$.\n",
    "- Let we have a random sample of size $n$ observed on $X$ and $Y$ variables where the data pairs are denoted by $(x_1,y_1),\\ldots,(x_n,y_n)$, the sample correlation coefficient is defined as:\n",
    "\n",
    "$$ r_{xy}=\\frac{\\sum_{i}^{n}(x_i-\\bar{x})(y_i-\\bar{y})}{\\sqrt{\\big(\\sum_{i}^{n}(x_i-\\bar{x})^2\\sum_{i}^{n}(y_i-\\bar{y})^2\\big)}}. $$\n",
    "\n",
    "- The correlation falls between -1 and 1 ($-1 \\leq r_{xy} \\leq 1$).\n",
    "- If $r_{xy} > 0$, the association is **positive**, \n",
    "- If $r_{xy} < 0$, the association is **negative**, and\n",
    "- If $r_{xy} = 0$, it indicates **no linear relationship**.\n",
    "- The **larger** the absolute value $r_{xy}$, the **stronger** the association."
   ]
  },
  {
   "cell_type": "markdown",
   "id": "841b2f9b-3ffb-4eac-88f5-1a0aa85cc395",
   "metadata": {},
   "source": [
    "Let's investigate how the scatter plot changes as the correlation changes."
   ]
  },
  {
   "cell_type": "code",
   "execution_count": 36,
   "id": "296dc279-b4b1-4678-8d57-802d058fe6ad",
   "metadata": {},
   "outputs": [],
   "source": [
    "# Importing the necessary libraries\n",
    "import ipywidgets as widgets\n",
    "\n",
    "plt.style.use('seaborn-whitegrid')\n",
    "plt.rcParams['figure.figsize']=14,6\n",
    "\n",
    "# define a corr function with flexible corr input\n",
    "def corr_widget(corr = 0):\n",
    "    \n",
    "    # Defining the mean vector\n",
    "    mean_x_y = np.array([20,30])\n",
    "\n",
    "    # Setting sd and corr \n",
    "\n",
    "    sigma_x = 4\n",
    "    sigma_y = 5\n",
    "    corr_x_y = corr\n",
    "\n",
    "    # Defining the variance-covariance matrix\n",
    "\n",
    "    cov_x_y = np.array([[sigma_x**2, corr_x_y*sigma_x*sigma_y], [corr_x_y*sigma_x*sigma_y, sigma_y**2]])\n",
    "\n",
    "    # Generating a data based on bivariate normal distribution\n",
    "    # with given mean vector and variance-covariance matrix\n",
    "    \n",
    "    data = stats.multivariate_normal.rvs(mean = mean_x_y, cov = cov_x_y, size = 100)\n",
    "\n",
    "    # Plotting the generated samples\n",
    "    \n",
    "    plt.plot(data[:,0], data[:,1], 'o', c = 'blue')\n",
    "    plt.title(f'Correlation between X and Y = {corr_x_y}')\n",
    "    plt.xlabel('X')\n",
    "    plt.ylabel('Y')\n",
    "\n",
    "    plt.show()\n",
    "\n",
    "#turn it into a widget\n",
    "corr_wid = widgets.FloatSlider(min = -1, max = 1, step = 0.1, value = 0, description = \"$r_x_y$\")\n",
    "#display(corr_wid)    "
   ]
  },
  {
   "cell_type": "markdown",
   "id": "d954b832-a353-497f-b307-7117a26d3e65",
   "metadata": {},
   "source": [
    "Now, play with the follwing slider to see how correlation changes."
   ]
  },
  {
   "cell_type": "code",
   "execution_count": 37,
   "id": "fc039e5b-384d-4e94-a290-7a9b7bd01685",
   "metadata": {},
   "outputs": [
    {
     "data": {
      "application/vnd.jupyter.widget-view+json": {
       "model_id": "dfc052e1e649436fbb3fdaa28de45775",
       "version_major": 2,
       "version_minor": 0
      },
      "text/plain": [
       "interactive(children=(FloatSlider(value=0.0, description='$r_x_y$', max=1.0, min=-1.0), Output()), _dom_classe…"
      ]
     },
     "metadata": {},
     "output_type": "display_data"
    }
   ],
   "source": [
    "widgets.interact(corr_widget, corr = corr_wid);"
   ]
  },
  {
   "cell_type": "code",
   "execution_count": null,
   "id": "2e0dc7af-9cdc-4fb6-ace9-b2fd399505c9",
   "metadata": {},
   "outputs": [],
   "source": [
    "import session_info\n",
    "session_info.show()"
   ]
  }
 ],
 "metadata": {
  "kernelspec": {
   "display_name": "Python 3 (ipykernel)",
   "language": "python",
   "name": "python3"
  },
  "language_info": {
   "codemirror_mode": {
    "name": "ipython",
    "version": 3
   },
   "file_extension": ".py",
   "mimetype": "text/x-python",
   "name": "python",
   "nbconvert_exporter": "python",
   "pygments_lexer": "ipython3",
   "version": "3.8.12"
  }
 },
 "nbformat": 4,
 "nbformat_minor": 5
}
